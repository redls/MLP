{
 "cells": [
  {
   "cell_type": "code",
   "execution_count": 1,
   "metadata": {},
   "outputs": [
    {
     "name": "stderr",
     "output_type": "stream",
     "text": [
      "/Users/lauranechita/miniconda3/envs/mlp/lib/python3.6/site-packages/h5py/__init__.py:36: FutureWarning: Conversion of the second argument of issubdtype from `float` to `np.floating` is deprecated. In future, it will be treated as `np.float64 == np.dtype(float).type`.\n",
      "  from ._conv import register_converters as _register_converters\n",
      "Using TensorFlow backend.\n",
      "/Users/lauranechita/miniconda3/envs/mlp/lib/python3.6/importlib/_bootstrap.py:219: RuntimeWarning: compiletime version 3.5 of module 'tensorflow.python.framework.fast_tensor_util' does not match runtime version 3.6\n",
      "  return f(*args, **kwds)\n"
     ]
    }
   ],
   "source": [
    "# load data\n",
    "import numpy as np\n",
    "import pandas as pd\n",
    "from keras.layers import Embedding, LSTM, Dense, Flatten, Dropout, RNN, SimpleRNN\n",
    "from keras.models import Sequential, load_model\n",
    "from keras.callbacks import ModelCheckpoint, EarlyStopping\n",
    "from keras.layers import Conv1D, GlobalMaxPooling1D, GlobalAveragePooling1D, Layer\n",
    "from keras.preprocessing.sequence import pad_sequences\n",
    "from keras.preprocessing.text import Tokenizer\n",
    "from sklearn import preprocessing\n",
    "from sklearn.metrics import log_loss\n",
    "import gc\n",
    "import matplotlib.pyplot as plt\n",
    "%matplotlib inline\n",
    "\n",
    "train_df = pd.read_csv(\"train.csv\")\n",
    "test_df = pd.read_csv(\"test.csv\")"
   ]
  },
  {
   "cell_type": "code",
   "execution_count": null,
   "metadata": {
    "collapsed": true
   },
   "outputs": [],
   "source": [
    "def plotAccErr(history):\n",
    "    #  \"Accuracy\"\n",
    "    plt.plot(history.history['acc'])\n",
    "    plt.plot(history.history['val_acc'])\n",
    "    plt.title('model accuracy')\n",
    "    plt.ylabel('accuracy')\n",
    "    plt.xlabel('epoch')\n",
    "    plt.legend(['train', 'validation'], loc='upper left')\n",
    "    plt.show()\n",
    "    # \"Loss\"\n",
    "    plt.plot(history.history['loss'])\n",
    "    plt.plot(history.history['val_loss'])\n",
    "    plt.title('model loss')\n",
    "    plt.ylabel('loss')\n",
    "    plt.xlabel('epoch')\n",
    "    plt.legend(['train', 'validation'], loc='upper left')\n",
    "    plt.show()"
   ]
  },
  {
   "cell_type": "code",
   "execution_count": 2,
   "metadata": {
    "collapsed": true
   },
   "outputs": [],
   "source": [
    "\n",
    "# dataset = pd.read_csv(\"train.csv\")\n",
    "# test_df = pd.read_csv(\"test.csv\")\n",
    "\n",
    "\n",
    "\n",
    "\n",
    "# # randomly sample 80% \n",
    "# train_df=dataset.sample(frac=0.8)\n",
    "# # remove train from dataset\n",
    "# dataset = dataset.drop(train.index)\n",
    "# # sample 50% of the remaining dataset (hence 50% of 20%)\n",
    "# validation=dataset.sample(frac=0.5)\n",
    "# # the remaining is 10%\n",
    "# test=dataset.drop(validation.index)"
   ]
  },
  {
   "cell_type": "code",
   "execution_count": 5,
   "metadata": {
    "collapsed": true
   },
   "outputs": [],
   "source": [
    "def get_lstm_feats(a=20000,b=10,c=300,bat=32):\n",
    "    # return train pred prob and test pred prob \n",
    "    NUM_WORDS = a\n",
    "    N = b\n",
    "    MAX_LEN = c\n",
    "    NUM_CLASSES = 3\n",
    "    MODEL_P = '/tmp/lstm.h5'\n",
    "    \n",
    "    X = train_df['text']\n",
    "    Y = train_df['author']\n",
    "    X_test = test_df['text']\n",
    "\n",
    "    tokenizer = Tokenizer(num_words=NUM_WORDS)\n",
    "    tokenizer.fit_on_texts(X)\n",
    "\n",
    "    train_x = tokenizer.texts_to_sequences(X)\n",
    "    train_x = pad_sequences(train_x, maxlen=MAX_LEN)\n",
    "    \n",
    "    test_x = tokenizer.texts_to_sequences(X_test)\n",
    "    test_x = pad_sequences(test_x, maxlen=MAX_LEN)\n",
    "\n",
    "    lb = preprocessing.LabelBinarizer()\n",
    "    lb.fit(Y)\n",
    "\n",
    "    train_y = lb.transform(Y)\n",
    "    \n",
    "    model = Sequential()\n",
    "    model.add(Embedding(NUM_WORDS, N, input_length=MAX_LEN))\n",
    "#     model.add(LSTM(N, dropout=0.2, recurrent_dropout=0.2))\n",
    "    model.add(SimpleRNN(N, activation='softmax', use_bias=True, kernel_initializer='glorot_uniform', recurrent_initializer='orthogonal', bias_initializer='zeros', kernel_regularizer=None, recurrent_regularizer=None, bias_regularizer=None, activity_regularizer=None, kernel_constraint=None, recurrent_constraint=None, bias_constraint=None, dropout=0.0, recurrent_dropout=0.0, return_sequences=False, return_state=False, go_backwards=False, stateful=False, unroll=False))\n",
    "#     model.add(Dense(N)) # this is a fully-connected layer with N hidden units.\n",
    "#     model.add(Dropout(0.2))\n",
    "    model.add(Dense(NUM_CLASSES, activation='softmax'))\n",
    "\n",
    "    model.compile(loss='categorical_crossentropy', optimizer='adam', metrics=['accuracy'])\n",
    "    model.summary() # prints a summary representation of your model.\n",
    "    \n",
    "    earlyStopping=EarlyStopping(monitor='val_loss', patience=5, verbose=0, mode='auto')\n",
    "    model_chk = ModelCheckpoint(filepath=MODEL_P, monitor='val_loss', save_best_only=True, verbose=1) #Save the model after every epoch.\n",
    "    np.random.seed(42)\n",
    "    history = model.fit(train_x, train_y, \n",
    "              validation_split=0.1,\n",
    "              batch_size=bat, epochs=40, \n",
    "              verbose=2,\n",
    "              callbacks=[model_chk, earlyStopping],\n",
    "              shuffle=True\n",
    "             )\n",
    "    \n",
    "    \n",
    "#     ----------------------\n",
    "    \n",
    "    print(history.history.keys())\n",
    "    #  \"Accuracy\"\n",
    "    plt.plot(history.history['acc'])\n",
    "    plt.plot(history.history['val_acc'])\n",
    "    plt.title('model accuracy')\n",
    "    plt.ylabel('accuracy')\n",
    "    plt.xlabel('epoch')\n",
    "    plt.legend(['train', 'validation'], loc='upper left')\n",
    "    plt.show()\n",
    "    # \"Loss\"\n",
    "    plt.plot(history.history['loss'])\n",
    "    plt.plot(history.history['val_loss'])\n",
    "    plt.title('model loss')\n",
    "    plt.ylabel('loss')\n",
    "    plt.xlabel('epoch')\n",
    "    plt.legend(['train', 'validation'], loc='upper left')\n",
    "    plt.show()\n",
    "    \n",
    "    \n",
    "    \n",
    "#     ----------------------\n",
    "    \n",
    "#     model = load_model(MODEL_P)\n",
    "#     train_pred = model.predict(train_x)\n",
    "#     test_pred = model.predict(test_x)\n",
    "    del model\n",
    "    gc.collect()\n",
    "#     print(log_loss(train_y,train_pred))\n",
    "#     return train_pred,test_pred\n"
   ]
  },
  {
   "cell_type": "code",
   "execution_count": 6,
   "metadata": {},
   "outputs": [
    {
     "name": "stdout",
     "output_type": "stream",
     "text": [
      "_________________________________________________________________\n",
      "Layer (type)                 Output Shape              Param #   \n",
      "=================================================================\n",
      "embedding_2 (Embedding)      (None, 300, 12)           192000    \n",
      "_________________________________________________________________\n",
      "simple_rnn_2 (SimpleRNN)     (None, 12)                300       \n",
      "_________________________________________________________________\n",
      "dense_2 (Dense)              (None, 3)                 39        \n",
      "=================================================================\n",
      "Total params: 192,339\n",
      "Trainable params: 192,339\n",
      "Non-trainable params: 0\n",
      "_________________________________________________________________\n",
      "Train on 17621 samples, validate on 1958 samples\n",
      "Epoch 1/40\n",
      "\n",
      "Epoch 00001: val_loss improved from inf to 1.08657, saving model to /tmp/lstm.h5\n",
      " - 6s - loss: 1.0900 - acc: 0.4036 - val_loss: 1.0866 - val_acc: 0.4025\n",
      "Epoch 2/40\n",
      "\n",
      "Epoch 00002: val_loss improved from 1.08657 to 1.08236, saving model to /tmp/lstm.h5\n",
      " - 6s - loss: 1.0829 - acc: 0.4036 - val_loss: 1.0824 - val_acc: 0.4025\n",
      "Epoch 3/40\n",
      "\n",
      "Epoch 00003: val_loss improved from 1.08236 to 1.07423, saving model to /tmp/lstm.h5\n",
      " - 6s - loss: 1.0720 - acc: 0.4062 - val_loss: 1.0742 - val_acc: 0.4142\n",
      "Epoch 4/40\n",
      "\n",
      "Epoch 00004: val_loss improved from 1.07423 to 1.06055, saving model to /tmp/lstm.h5\n",
      " - 6s - loss: 1.0500 - acc: 0.4392 - val_loss: 1.0605 - val_acc: 0.4438\n",
      "Epoch 5/40\n",
      "\n",
      "Epoch 00005: val_loss improved from 1.06055 to 1.04380, saving model to /tmp/lstm.h5\n",
      " - 6s - loss: 1.0142 - acc: 0.5025 - val_loss: 1.0438 - val_acc: 0.4750\n",
      "Epoch 6/40\n",
      "\n",
      "Epoch 00006: val_loss improved from 1.04380 to 1.02990, saving model to /tmp/lstm.h5\n",
      " - 7s - loss: 0.9694 - acc: 0.5661 - val_loss: 1.0299 - val_acc: 0.4765\n",
      "Epoch 7/40\n",
      "\n",
      "Epoch 00007: val_loss improved from 1.02990 to 1.02011, saving model to /tmp/lstm.h5\n",
      " - 7s - loss: 0.9247 - acc: 0.5780 - val_loss: 1.0201 - val_acc: 0.4785\n",
      "Epoch 8/40\n",
      "\n",
      "Epoch 00008: val_loss improved from 1.02011 to 1.01299, saving model to /tmp/lstm.h5\n",
      " - 6s - loss: 0.8837 - acc: 0.5921 - val_loss: 1.0130 - val_acc: 0.4985\n",
      "Epoch 9/40\n",
      "\n",
      "Epoch 00009: val_loss improved from 1.01299 to 1.00407, saving model to /tmp/lstm.h5\n",
      " - 6s - loss: 0.8427 - acc: 0.6390 - val_loss: 1.0041 - val_acc: 0.5143\n",
      "Epoch 10/40\n",
      "\n",
      "Epoch 00010: val_loss improved from 1.00407 to 0.99527, saving model to /tmp/lstm.h5\n",
      " - 6s - loss: 0.7957 - acc: 0.7006 - val_loss: 0.9953 - val_acc: 0.5322\n",
      "Epoch 11/40\n",
      "\n",
      "Epoch 00011: val_loss improved from 0.99527 to 0.99046, saving model to /tmp/lstm.h5\n",
      " - 6s - loss: 0.7448 - acc: 0.7185 - val_loss: 0.9905 - val_acc: 0.5470\n",
      "Epoch 12/40\n",
      "\n",
      "Epoch 00012: val_loss improved from 0.99046 to 0.99033, saving model to /tmp/lstm.h5\n",
      " - 6s - loss: 0.6992 - acc: 0.7290 - val_loss: 0.9903 - val_acc: 0.5608\n",
      "Epoch 13/40\n",
      "\n",
      "Epoch 00013: val_loss did not improve\n",
      " - 6s - loss: 0.6615 - acc: 0.7400 - val_loss: 0.9922 - val_acc: 0.5674\n",
      "Epoch 14/40\n",
      "\n",
      "Epoch 00014: val_loss did not improve\n",
      " - 6s - loss: 0.6291 - acc: 0.7518 - val_loss: 0.9946 - val_acc: 0.5695\n",
      "Epoch 15/40\n",
      "\n",
      "Epoch 00015: val_loss did not improve\n",
      " - 6s - loss: 0.5987 - acc: 0.7639 - val_loss: 0.9941 - val_acc: 0.5735\n",
      "Epoch 16/40\n",
      "\n",
      "Epoch 00016: val_loss did not improve\n",
      " - 6s - loss: 0.5667 - acc: 0.7785 - val_loss: 0.9947 - val_acc: 0.5838\n",
      "Epoch 17/40\n",
      "\n",
      "Epoch 00017: val_loss did not improve\n",
      " - 6s - loss: 0.5344 - acc: 0.7966 - val_loss: 0.9911 - val_acc: 0.5832\n",
      "dict_keys(['val_loss', 'val_acc', 'loss', 'acc'])\n"
     ]
    },
    {
     "data": {
      "image/png": "[encoded data removed]",
      "text/plain": [
       "<matplotlib.figure.Figure at 0x11e99d9e8>"
      ]
     },
     "metadata": {},
     "output_type": "display_data"
    },
    {
     "data": {
      "image/png": "[encoded data removed]",
      "text/plain": [
       "<matplotlib.figure.Figure at 0x11f0b1438>"
      ]
     },
     "metadata": {},
     "output_type": "display_data"
    }
   ],
   "source": [
    "get_lstm_feats(16000,12,300,256)\n"
   ]
  },
  {
   "cell_type": "code",
   "execution_count": null,
   "metadata": {
    "collapsed": true
   },
   "outputs": [],
   "source": []
  }
 ],
 "metadata": {
  "kernelspec": {
   "display_name": "Python 3",
   "language": "python",
   "name": "python3"
  },
  "language_info": {
   "codemirror_mode": {
    "name": "ipython",
    "version": 3
   },
   "file_extension": ".py",
   "mimetype": "text/x-python",
   "name": "python",
   "nbconvert_exporter": "python",
   "pygments_lexer": "ipython3",
   "version": "3.6.3"
  }
 },
 "nbformat": 4,
 "nbformat_minor": 2
}
